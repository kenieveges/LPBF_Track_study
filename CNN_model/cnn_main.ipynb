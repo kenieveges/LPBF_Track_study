{
 "cells": [
  {
   "cell_type": "code",
   "execution_count": 1,
   "metadata": {},
   "outputs": [],
   "source": [
    "import os\n",
    "import numpy as np\n",
    "from skimage import io, transform, img_as_float\n",
    "from sklearn.model_selection import train_test_split"
   ]
  },
  {
   "cell_type": "code",
   "execution_count": 2,
   "metadata": {},
   "outputs": [],
   "source": [
    "# Define the path to your dataset\n",
    "dataset_path = './data_04_04/'"
   ]
  },
  {
   "cell_type": "code",
   "execution_count": null,
   "metadata": {},
   "outputs": [],
   "source": [
    "# Define the image size to resize the images\n",
    "image_size = (256, 256)\n",
    "\n",
    "# Collect the dataset\n",
    "images = []\n",
    "masks = []\n",
    "for filename in os.listdir(dataset_path):\n",
    "    if filename.endswith('.jpg') or filename.endswith('.png'):\n",
    "        # Load the image and mask\n",
    "        image = io.imread(os.path.join(dataset_path, filename), as_gray=True)\n",
    "        mask = io.imread(os.path.join(dataset_path, filename.replace('.jpg', '.png').replace('.png', '_mask.png')), as_gray=True)\n",
    "\n",
    "        # Resize the image and mask\n",
    "        image = transform.resize(image, image_size)\n",
    "        mask = transform.resize(mask, image_size, order=0, anti_aliasing=False)\n",
    "\n",
    "        # Convert the image and mask to float32\n",
    "        image = img_as_float(image)\n",
    "        mask = (img_as_float(mask) > 0.5).astype(np.uint8)\n",
    "\n",
    "        # Add the image and mask to the list\n",
    "        images.append(image)\n",
    "        masks.append(mask)\n",
    "\n",
    "# Split the dataset into training, validation, and testing sets\n",
    "X_train, X_valtest, y_train, y_valtest = train_test_split(images, masks, test_size=0.2, random_state=42)\n",
    "X_val, X_test, y_val, y_test = train_test_split(X_valtest, y_valtest, test_size=0.5, random_state=42)\n"
   ]
  }
 ],
 "metadata": {
  "kernelspec": {
   "display_name": "for_CNN",
   "language": "python",
   "name": "python3"
  },
  "language_info": {
   "codemirror_mode": {
    "name": "ipython",
    "version": 3
   },
   "file_extension": ".py",
   "mimetype": "text/x-python",
   "name": "python",
   "nbconvert_exporter": "python",
   "pygments_lexer": "ipython3",
   "version": "3.9.16"
  },
  "orig_nbformat": 4
 },
 "nbformat": 4,
 "nbformat_minor": 2
}
